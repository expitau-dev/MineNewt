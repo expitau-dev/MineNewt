{
 "cells": [
  {
   "cell_type": "code",
   "execution_count": 9,
   "metadata": {},
   "outputs": [
    {
     "name": "stdout",
     "output_type": "stream",
     "text": [
      "Accuracy: 0.88\n"
     ]
    }
   ],
   "source": [
    "import random\n",
    "\n",
    "def more_ones_than_zeros(n):\n",
    "    binary = bin(n)[2:]  # convert n to binary and remove the '0b' prefix\n",
    "    s = 0  # initialize the counter to 0\n",
    "    for digit in binary:\n",
    "        if digit == '1':\n",
    "            s += 1  # increment the counter if the current digit is 1\n",
    "        else:\n",
    "            s -= 1  # subtract one from the counter if the current digit is 0\n",
    "    return s > 0  # return True if s > 0, False otherwise\n",
    "\n",
    "def more_ones_than_zeros_clamped(n):\n",
    "    binary = bin(n)[2:]  # convert n to binary and remove the '0b' prefix\n",
    "    s = 7  # initialize the counter to 0\n",
    "    for digit in binary:\n",
    "        if digit == '1':\n",
    "            s = min(s + 1, 14)  # increment the counter if the current digit is 1, clamping it to be between -10 and 10\n",
    "        else:\n",
    "            s = max(s - 1, 0)  # subtract one from the counter if the current digit is 0, clamping it to be between -10 and 10\n",
    "    return s > 7  # return True if s > 0, False otherwise\n",
    "\n",
    "# compare accuracy with the original function\n",
    "num_correct = 0\n",
    "for i in range(2000):\n",
    "    n = random.randint(1, 2**100 - 1)\n",
    "    expected = more_ones_than_zeros(n)\n",
    "    actual = more_ones_than_zeros_clamped(n)\n",
    "    if expected == actual:\n",
    "        num_correct += 1\n",
    "\n",
    "accuracy = num_correct / 2000\n",
    "print(f\"Accuracy: {accuracy:.2f}\")\n"
   ]
  }
 ],
 "metadata": {
  "kernelspec": {
   "display_name": "Python 3",
   "language": "python",
   "name": "python3"
  },
  "language_info": {
   "codemirror_mode": {
    "name": "ipython",
    "version": 3
   },
   "file_extension": ".py",
   "mimetype": "text/x-python",
   "name": "python",
   "nbconvert_exporter": "python",
   "pygments_lexer": "ipython3",
   "version": "3.10.6"
  },
  "orig_nbformat": 4
 },
 "nbformat": 4,
 "nbformat_minor": 2
}
