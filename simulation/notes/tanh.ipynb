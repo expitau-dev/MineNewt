{
 "cells": [
  {
   "cell_type": "code",
   "execution_count": 1,
   "metadata": {},
   "outputs": [],
   "source": [
    "def print_grid(numbers):\n",
    "    # Get the dimensions of the 2D list\n",
    "    rows = len(numbers)\n",
    "    cols = len(numbers[0])\n",
    "\n",
    "    # Find the length of the longest number in the grid\n",
    "    max_num_len = len(str(max(map(max, numbers))))\n",
    "\n",
    "    # Loop through the rows and columns, printing each number\n",
    "    for i in range(rows):\n",
    "        for j in range(cols):\n",
    "            # Use string formatting to center each number\n",
    "            num_str = str(numbers[i][j]).ljust(max_num_len)\n",
    "            print(num_str, end=' ')\n",
    "        print()  # Print a newline after each row\n"
   ]
  },
  {
   "cell_type": "code",
   "execution_count": 2,
   "metadata": {},
   "outputs": [],
   "source": [
    "def get_probs(nfrom, probs, clamp_size=5):\n",
    "    import random\n",
    "    # Iterate over all binary numbers of bitlength len(probs)\n",
    "    result_probabilities = [0 for i in range(clamp_size * 2 + 1)]\n",
    "    maxlen = 2 ** len(probs)\n",
    "    for i in range(min(1000, maxlen)):\n",
    "        current_prob = 1\n",
    "        s = nfrom\n",
    "        for bit_index in range(len(probs)):\n",
    "            bit = 1 if random.random() < probs[bit_index] else 0\n",
    "            if bit == 1:\n",
    "                current_prob *= probs[bit_index]\n",
    "                s += 1\n",
    "            else:\n",
    "                current_prob *= (1 - probs[bit_index])\n",
    "                s -= 1\n",
    "            s = max(0, min(2 * clamp_size, s))\n",
    "        result_probabilities[s] += current_prob\n",
    "    return result_probabilities\n",
    "\n",
    "# The following function consumes a list probs and outputs a len(list)xlen(list) grid of probabilities\n",
    "def print_probs(probs, clamp_size=5):\n",
    "    # Create a 2D list of zeros\n",
    "    grid = [[0 for i in range(clamp_size * 2 + 1)] for j in range(clamp_size * 2 + 1)]\n",
    "\n",
    "    # Loop through the rows and columns, setting each value to the probability of the corresponding\n",
    "    # row and column\n",
    "    for i in range(len(grid)):\n",
    "        for j in range(len(grid[0])):\n",
    "            grid[i] = get_probs(i, probs, clamp_size)\n",
    "\n",
    "    # Print the grid\n",
    "    print_grid(grid)"
   ]
  },
  {
   "cell_type": "code",
   "execution_count": 3,
   "metadata": {},
   "outputs": [],
   "source": [
    "\n",
    "# def get_tanh(probs, clamp_size=5):\n",
    "#     probs = [p / 2 + 0.5 for p in probs]\n",
    "\n",
    "#     current_value = [0 for i in range(clamp_size * 2 + 1)]\n",
    "#     current_value[clamp_size] = 1\n",
    "#     for i in range(1):\n",
    "#         next_value = [0 for j in range(len(current_value))]\n",
    "#         for j in range(len(current_value)):\n",
    "#             p = get_probs(j, probs, clamp_size)\n",
    "#             next_value = [next_value[k] + current_value[j] * p[k] for k in range(len(p))]\n",
    "#         current_value = next_value\n",
    "#     return sum(current_value[clamp_size:]) * 2 - 1\n",
    "\n",
    "def get_tanh(probs):\n",
    "    import random\n",
    "    import math\n",
    "    total = 0\n",
    "    STOCHASTIC_SIZE = 1000\n",
    "    clamp = math.log2(len(probs))\n",
    "    stot = 0\n",
    "    for i in range(STOCHASTIC_SIZE):\n",
    "        v = [random.random() < (p / 2 + 0.5) for p in probs]\n",
    "        s = 0\n",
    "        for j in range(len(v)):\n",
    "            if v[j]:\n",
    "                s += 1\n",
    "            else:\n",
    "                s -= 1\n",
    "\n",
    "        if s > 0:\n",
    "            stot += 1\n",
    "        else:\n",
    "            stot -= 1\n",
    "\n",
    "        if stot > clamp:\n",
    "            stot = clamp\n",
    "        elif stot < -clamp:\n",
    "            stot = -clamp\n",
    "\n",
    "        if stot > 0:\n",
    "            total += 1\n",
    "    return (total / STOCHASTIC_SIZE - 0.5) * 2.0"
   ]
  },
  {
   "cell_type": "code",
   "execution_count": 4,
   "metadata": {},
   "outputs": [
    {
     "name": "stdout",
     "output_type": "stream",
     "text": [
      "0.11 tanh: -0.46399999999999997, expected: -0.7892437116239444\n",
      "0.26 tanh: -0.46199999999999997, expected: 0.045131606862558724\n",
      "0.18 tanh: -0.15800000000000003, expected: 0.26582134111222366\n",
      "0.12 tanh: 0.19399999999999995, expected: 0.5462813858659352\n"
     ]
    },
    {
     "data": {
      "image/png": "[encoded data removed]",
      "text/plain": [
       "<Figure size 640x480 with 1 Axes>"
      ]
     },
     "metadata": {},
     "output_type": "display_data"
    }
   ],
   "source": [
    "# Repeatedly choose n random numbers and compute Stochastic.tanh and plot the results\n",
    "def test_tanh(n, k):\n",
    "    import matplotlib.pyplot as plt\n",
    "    import numpy as np\n",
    "    import random\n",
    "\n",
    "    # Draw a tanh line\n",
    "    x = np.linspace(-20, 20, 100)\n",
    "    y = np.tanh(x)\n",
    "    plt.plot(x, y, color=\"blue\")\n",
    "\n",
    "    for i in range(n):\n",
    "        v = [random.random() * 2.0 - 1 for i in range(k)]\n",
    "        t = get_tanh(v)\n",
    "        plt.scatter(sum(v)-1, t, color=\"red\")\n",
    "        if round((t - np.tanh(sum(v)-1))**2, 2) > 0.1:\n",
    "            print(f\"{round((t - np.tanh(sum(v)-1))**2, 2)} tanh: {t}, expected: {np.tanh(sum(v)-1)}\")\n",
    "    \n",
    "    plt.xlim([-5,5])\n",
    "    plt.ylim([-2,2])\n",
    "    plt.show()\n",
    "test_tanh(400, 32)"
   ]
  }
 ],
 "metadata": {
  "kernelspec": {
   "display_name": "Python 3",
   "language": "python",
   "name": "python3"
  },
  "language_info": {
   "codemirror_mode": {
    "name": "ipython",
    "version": 3
   },
   "file_extension": ".py",
   "mimetype": "text/x-python",
   "name": "python",
   "nbconvert_exporter": "python",
   "pygments_lexer": "ipython3",
   "version": "3.10.6"
  },
  "orig_nbformat": 4
 },
 "nbformat": 4,
 "nbformat_minor": 2
}
