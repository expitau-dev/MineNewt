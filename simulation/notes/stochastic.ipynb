{
 "cells": [
  {
   "cell_type": "code",
   "execution_count": 1,
   "metadata": {},
   "outputs": [],
   "source": [
    "import random\n",
    "\n",
    "STOCHASTIC_SIZE = 128\n",
    "\n",
    "class Stochastic:\n",
    "    def __init__(self, bits):\n",
    "        self.bits = bits\n",
    "\n",
    "    def __repr__(self):\n",
    "        if self.bits >= 0:\n",
    "            return format(self.bits, \"0128b\")\n",
    "        else:\n",
    "            return format((1 << 128) + self.bits, \"0128b\")\n",
    "\n",
    "    @classmethod\n",
    "    def new(cls, p):\n",
    "        bits = 0\n",
    "        for i in range(STOCHASTIC_SIZE):\n",
    "            if random.random() < (p / 2.0 + 0.5):\n",
    "                bits |= 1 << i\n",
    "        return cls(bits)\n",
    "\n",
    "    def mult(self, other):\n",
    "        return Stochastic(~(self.bits ^ other.bits))\n",
    "\n",
    "    @staticmethod\n",
    "    def tanh(v):\n",
    "        bits = 0\n",
    "        for i in range(STOCHASTIC_SIZE):\n",
    "            s = 0\n",
    "            for j in range(len(v)):\n",
    "                if v[j].at(i) == 1:\n",
    "                    s += 1\n",
    "                else:\n",
    "                    s -= 1\n",
    "                s = max(-7, min(7, s))\n",
    "            if s > 0:\n",
    "                bits |= 1 << i\n",
    "        return Stochastic(bits)\n",
    "\n",
    "    def to_f64(self):\n",
    "        count = 0\n",
    "        for i in range(STOCHASTIC_SIZE):\n",
    "            if self.bits & (1 << i) != 0:\n",
    "                count += 1\n",
    "        return (count / STOCHASTIC_SIZE - 0.5) * 2.0\n",
    "\n",
    "    def at(self, i):\n",
    "        return 1 if self.bits & (1 << i) != 0 else 0\n",
    "    \n",
    "\n",
    "# a = Stochastic.new(0.5)\n",
    "# b = Stochastic.new(0.5)\n",
    "# c = Stochastic.tanh([a,b])\n",
    "# print(\"a    \", a)\n",
    "# print(\"b    \", b)\n",
    "# print(\"a*b  \", a.mult(b))\n",
    "# print(\"tanh \", Stochastic.tanh([a,b]))\n",
    "# print(\"--------\")\n",
    "# print(\"a    \", a.to_f64())\n",
    "# print(\"b    \", b.to_f64())\n",
    "# print(\"a*b  \", a.mult(b).to_f64())\n",
    "# print(\"tanh \", Stochastic.tanh([a,b]).to_f64())\n"
   ]
  },
  {
   "cell_type": "code",
   "execution_count": 2,
   "metadata": {},
   "outputs": [
    {
     "data": {
      "image/png": "[encoded data removed]",
      "text/plain": [
       "<Figure size 640x480 with 1 Axes>"
      ]
     },
     "metadata": {},
     "output_type": "display_data"
    }
   ],
   "source": [
    "# Repeatedly choose n random numbers and compute Stochastic.tanh and plot the results\n",
    "def test_tanh(n, k):\n",
    "    import matplotlib.pyplot as plt\n",
    "    import numpy as np\n",
    "    import random\n",
    "\n",
    "    # Draw a tanh line\n",
    "    x = np.linspace(-20, 20, 100)\n",
    "    y = np.tanh(x)\n",
    "    plt.plot(x, y, color=\"blue\")\n",
    "\n",
    "    for i in range(n):\n",
    "        v = [Stochastic.new((random.random() * 2.0 - 1)) for i in range(k)]\n",
    "        c = Stochastic.tanh(v)\n",
    "        plt.scatter(sum([x.to_f64() for x in v]), c.to_f64(), color=\"red\")\n",
    "\n",
    "    plt.xlim([-20,20])\n",
    "    plt.ylim([-2,2])\n",
    "    plt.show()\n",
    "\n",
    "test_tanh(1000, 50)"
   ]
  }
 ],
 "metadata": {
  "kernelspec": {
   "display_name": "Python 3",
   "language": "python",
   "name": "python3"
  },
  "language_info": {
   "codemirror_mode": {
    "name": "ipython",
    "version": 3
   },
   "file_extension": ".py",
   "mimetype": "text/x-python",
   "name": "python",
   "nbconvert_exporter": "python",
   "pygments_lexer": "ipython3",
   "version": "3.10.6"
  },
  "orig_nbformat": 4
 },
 "nbformat": 4,
 "nbformat_minor": 2
}
